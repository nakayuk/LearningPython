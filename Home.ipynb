{
 "cells": [
  {
   "cell_type": "markdown",
   "metadata": {},
   "source": [
    "# このGitHub Wikiは何？\n",
    "自分用のPython学習ノートです"
   ]
  },
  {
   "cell_type": "markdown",
   "metadata": {},
   "source": [
    "# 目次\n",
    "\n",
    "\n",
    "### [Python概要](Python概要.ipynb)\n",
    "Pythonの環境を整備して、Pythonを学ぼう！\n",
    "\n",
    "### [IPython概要](IPython概要.ipynb)\n",
    "Pythonで対話型計算するならIPythonを使おう！\n",
    "* [マジック関数まとめ](マジック関数まとめ.ipnb)\n",
    "\n",
    "### [IPython Notebook概要](IPython Notebook概要.ipynb)\n",
    "IPythonのユーザーインターフェースはIPython Notebookで決まり！\n",
    "\n",
    "### [Markdown文法](Markdown文法.ipynb)\n",
    "IPython NotebookでもサポートしているHTMLの略記法だよ！Markdown文法はこのGitHub Wikiを書くために必要だったので、筆者はまず最初にここから書いたぞ！\n",
    "\n",
    "### [NumPy]"
   ]
  },
  {
   "cell_type": "markdown",
   "metadata": {},
   "source": [
    "# 読みたいものリスト\n",
    "だいたいTODOリスト。\n",
    "\n",
    "### IPython Notebook\n",
    "\n",
    "[目次の生成](https://github.com/minrk/ipython_extensions#table-of-contents)\n",
    "\n",
    "[コードの折りたたみ](https://github.com/ipython-contrib/IPython-notebook-extensions/wiki/Codefolding)\n",
    "\n",
    "[入力セルを隠す](https://github.com/ipython-contrib/IPython-notebook-extensions/wiki/hide_input_all)\n",
    "\n",
    "[Navier-Stokes](http://nbviewer.ipython.org/github/barbagroup/CFDPython/blob/master/lessons/01_Step_1.ipynb)\n",
    "\n",
    "### matplotlib\n",
    "[公式のチュートリアル](http://nbviewer.ipython.org/github/jrjohansson/scientific-python-lectures/blob/master/Lecture-4-Matplotlib.ipynb)\n",
    "\n",
    "### Cython\n",
    "<http://nbviewer.ipython.org/github/ipython/ipython/blob/1.x/examples/notebooks/Cell%20Magics.ipynb>\n",
    "\n",
    "### Numpy\n",
    "[NumPy 利用ノート](https://showa-yojyo.github.io/note/python-numpy.html)\n",
    "\n",
    "### SciPy\n",
    "[Python Scientific Lecture Notes](http://scipy-lectures.github.io/)\n",
    "\n",
    "### scikit-learn\n",
    "[scikit-learn Tutorials](http://scikit-learn.org/stable/tutorial/)\n",
    "\n",
    "### pandas"
   ]
  }
 ],
 "metadata": {
  "kernelspec": {
   "display_name": "Python 3",
   "language": "python",
   "name": "python3"
  },
  "language_info": {
   "codemirror_mode": {
    "name": "ipython",
    "version": 3
   },
   "file_extension": ".py",
   "mimetype": "text/x-python",
   "name": "python",
   "nbconvert_exporter": "python",
   "pygments_lexer": "ipython3",
   "version": "3.4.3"
  }
 },
 "nbformat": 4,
 "nbformat_minor": 0
}
