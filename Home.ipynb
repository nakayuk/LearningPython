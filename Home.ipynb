{
 "cells": [
  {
   "cell_type": "markdown",
   "metadata": {},
   "source": [
    "# このWikiは何？\n",
    "自分用のPython学習ノートです"
   ]
  },
  {
   "cell_type": "markdown",
   "metadata": {},
   "source": [
    "# 目次\n",
    "\n",
    "\n",
    "### [Python概要](Python概要.ipynb)\n",
    "Pythonの環境を整備して、Pythonを学ぼう！\n",
    "\n",
    "### [IPython概要](IPython概要.ipynb)\n",
    "Pythonで対話型計算するならIPythonを使おう！\n",
    "* [マジック関数まとめ](マジック関数まとめ.ipynb)\n",
    "\n",
    "### [IPython Notebook概要](IPythonNotebook概要.ipynb)\n",
    "IPythonのユーザーインターフェースはIPython Notebookで決まり！\n",
    "* [Git Tips](GitTips.ipynb)\n",
    "\n",
    "### [Markdown文法](Markdown文法.ipynb)\n",
    "IPython NotebookでもサポートしているHTMLの略記法だよ！Markdown文法はこのGitHub Wikiを書くために必要だったので、筆者はまず最初にここから書いたぞ！\n",
    "\n",
    "### [NumPy概要](NumPy概要.ipynb)\n",
    "NumPyは高速数値計算用のPythonライブラリだよ！SciPyやmatplotlibなど色んなライブラリがNumPyに基づいてるよ！"
   ]
  },
  {
   "cell_type": "markdown",
   "metadata": {},
   "source": [
    "# 読みたいものリスト\n",
    "だいたいTODOリスト。\n",
    "\n",
    "### Numpy\n",
    "[NumPy 利用ノート](https://showa-yojyo.github.io/note/python-numpy.html)\n",
    "\n",
    "### SciPy\n",
    "[Python Scientific Lecture Notes](http://scipy-lectures.github.io/)\n",
    "\n",
    "### matplotlib\n",
    "[公式のチュートリアル](http://nbviewer.ipython.org/github/jrjohansson/scientific-python-lectures/blob/master/Lecture-4-Matplotlib.ipynb)\n",
    "\n",
    "### pandas\n",
    "\n",
    "### Cython\n",
    "<http://nbviewer.ipython.org/github/ipython/ipython/blob/1.x/examples/notebooks/Cell%20Magics.ipynb>\n",
    "\n",
    "### scikit-learn\n",
    "[scikit-learn Tutorials](http://scikit-learn.org/stable/tutorial/)"
   ]
  }
 ],
 "metadata": {
  "kernelspec": {
   "display_name": "Python 3",
   "language": "python",
   "name": "python3"
  },
  "language_info": {
   "codemirror_mode": {
    "name": "ipython",
    "version": 3
   },
   "file_extension": ".py",
   "mimetype": "text/x-python",
   "name": "python",
   "nbconvert_exporter": "python",
   "pygments_lexer": "ipython3",
   "version": "3.4.3"
  }
 },
 "nbformat": 4,
 "nbformat_minor": 0
}
