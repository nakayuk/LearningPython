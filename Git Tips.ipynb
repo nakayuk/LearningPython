{
 "cells": [
  {
   "cell_type": "markdown",
   "metadata": {},
   "source": [
    "# 設定ファイル\n",
    "Gitのトップディレクトリ直下の.gitconfigや.gitignoreファイル（無ければ作る）を手で書き換えれば設定を変えられる\n",
    "* gitconfig: ユーザーの名前やメールアドレス、使うエディタなど\n",
    "* gitignore: ここで指定されたファイルに更新があってもステージング候補とせずに無視する"
   ]
  },
  {
   "cell_type": "markdown",
   "metadata": {},
   "source": [
    "# コマンドラインGit\n",
    "SourceTreeは動作がやや重いので、個人制作のちょっとしたレポジトリならコマンドラインシェルからGitしたくなる時もある\n",
    "\n",
    "自由度が高すぎるのでとりあえず最小限のコマンドまとめ。`git`のあとに打つ\n",
    "* `add`:　ステージングする\n",
    "    - `-u`:　変更されてるファイルすべて\n",
    "* `status`:　いま何がステージングされているかを確認\n",
    "* `commit`:　コミットする\n",
    "    - `-m`:　コミットメッセージ\n",
    "* `push`:　プッシュ"
   ]
  },
  {
   "cell_type": "markdown",
   "metadata": {},
   "source": [
    "### エディタ\n",
    "コミットするときにコミットメッセージを書くためにエディタが起動する\n",
    "* デフォルトのエディタはvimだけど、筆者の環境では、Cygwinシェルではうまく呼び出せずに操作を受けつけなくなった\n",
    "\n",
    "もしあなたがvimやemacsなどの特定の宗派に属していないなら、windowsでは秀丸エディタがおすすめ\n",
    "* vimやemacsはうまく使えるまでに学習コストがかるぶん効率的に書ける類のエディタだと思う。筆者はコードをIDE (Eclipseなど)で書き、TeXをTeXエディタ (Bakoma Texなど)で書くため、あまり学ぶ動機がない\n",
    "* 秀丸エディタの文字コードはデフォルトでShift-JISなのでUTF-8に変えよう: [秀丸　デフォルトの文字コードの設定方法](http://d.hatena.ne.jp/uyan39/20121111/1352644150)\n",
    "\n",
    "デフォルトのエディタを秀丸にするには、コマンドラインで\n",
    "```\n",
    "git config --global core.editor \"'C:/Program Files (x86)/Hidemaru/Hidemaru.exe'\"\n",
    "```\n",
    "と打つか、Gitのトップディレクトリ直下の.gitconfigファイルの中身を開けて[core]のeditorの部分を手で書き足す、例えば\n",
    "```\n",
    "[user]\n",
    "\tname = hogehoge\n",
    "\temail = fugafuga@piyopiyo.com\n",
    "[core]\n",
    "\teditor = \"'C:/Program Files (x86)/Hidemaru/Hidemaru.exe'\"\n",
    "```\n",
    "* [git for windowsで秀丸を使ってコミットメッセージを編集したい](http://gendosu.jp/archives/2343)などを参照\n",
    "* 著者はここで少しハマった。ダブルクォート\"とシングルクォート'の両方が必要っぽい。シングルクォートは２種類あるので、'を\\`と間違わないように注意。また、ディレクトリの区切りは\\\\ではなく/で入力"
   ]
  }
 ],
 "metadata": {
  "kernelspec": {
   "display_name": "Python 3",
   "language": "python",
   "name": "python3"
  },
  "language_info": {
   "codemirror_mode": {
    "name": "ipython",
    "version": 3
   },
   "file_extension": ".py",
   "mimetype": "text/x-python",
   "name": "python",
   "nbconvert_exporter": "python",
   "pygments_lexer": "ipython3",
   "version": "3.4.3"
  }
 },
 "nbformat": 4,
 "nbformat_minor": 0
}
