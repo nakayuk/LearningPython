{
 "cells": [
  {
   "cell_type": "markdown",
   "metadata": {},
   "source": [
    "NumPyはPythonにおける高速数値計算用のライブラリである。型付き多次元配列オブジェクト (numpy.ndarray)や、数学関数などが使える。SciPyやmatplotlibなど、NumPyに基づくライブラリは多い\n",
    "\n",
    "---\n",
    "\n",
    "# 資料集\n",
    "\n",
    "* [朱鷺の杜Wiki](http://ibisforest.org/index.php?python%2Fnumpy)\n",
    "    - これ見ればよくね\n",
    "* [NumPy 利用ノート](https://showa-yojyo.github.io/note/python-numpy.html)\n",
    "\n",
    "# 高速化\n",
    "NumPyの計算をより高速にするにはいくつかの方法がある\n",
    "* コードの書き方を工夫する\n",
    "* BLAS, LAPACKを高速なものに取り換える\n",
    "    - BLAS (Basic Linear Algebra Subprograms)は行列の積といった基本的な線形代数計算を高速で行うライブラリであり、主にFortranやCで実装されている（[BLASとは](http://azalea.s35.xrea.com/blas/whatIsBlas.html)）。様々な実装があり、有料のIntel MKL (Math Kernel Library)が最強だが、無料ではGotoBLAS系列(GotoBLAS→GotoBLAS2→OpenBLAS)またはATLASが良く使われる。昔のものは昔のCPUにチューンされているので避けよう。2014年時点ではATLASよりOpenBLASの方が速いっぽい（[OpenBLAS と ATLAS の性能を R 上で比較する](http://www.hnagata.net/archives/198)）\n",
    "    - LAPACK (Linear Algebra PACKage)はBLASを呼び出して固有値・特異値問題といったより高度な線形代数計算を高速で行うライブラリ。LAPACK付属のBLASは遅いので、自分で用意した速いBLASに取り換えよう\n",
    "    - これらはPython以前からある歴史の長いライブラリである。C/C++ではGSL(GNU Scientific Library)という科学計算用のライブラリを通じて使うことが多い\n",
    "* Cythonを使う\n",
    "    - [NumPy を扱う](http://omake.accense.com/static/doc-ja/cython/src/tutorial/numpy.html)\n",
    "    - [NumPyとCythonを組み合わせると爆速！](http://kesin.hatenablog.com/entry/20120314/1331689014)\n",
    "    - [[Python][Cython]メモ: numpyアクセス高速化](http://nekopuni.holy.jp/2014/10/pythoncython%E3%83%A1%E3%83%A2-numpy%E3%82%A2%E3%82%AF%E3%82%BB%E3%82%B9%E9%AB%98%E9%80%9F%E5%8C%96/)\n",
    "\n",
    "### Open BLASの導入\n",
    "* [numpy・scipyでマルチスレッドBLAS・LAPACKを使う](http://qiita.com/_akisato/items/d5de60e38b5a69387bde) \n",
    "* [Numpy/Scipy with OpenBLAS for Ubuntu 12.04](http://osdf.github.io/blog/numpyscipy-with-openblas-for-ubuntu-1204.html)\n",
    "* [Building NumPy and SciPy with GotoBLAS2](https://lucidfrontier45.wordpress.com/tag/blas/)\n",
    "* [numpy, scipyちょっと遅い気がするって時はblas, lapack, atlasが入っているか見直しましょう](http://qiita.com/r9y9/items/b6b2a0ee00781f1bb480)"
   ]
  },
  {
   "cell_type": "code",
   "execution_count": null,
   "metadata": {
    "collapsed": true
   },
   "outputs": [],
   "source": []
  }
 ],
 "metadata": {
  "kernelspec": {
   "display_name": "Python 3",
   "language": "python",
   "name": "python3"
  },
  "language_info": {
   "codemirror_mode": {
    "name": "ipython",
    "version": 3
   },
   "file_extension": ".py",
   "mimetype": "text/x-python",
   "name": "python",
   "nbconvert_exporter": "python",
   "pygments_lexer": "ipython3",
   "version": "3.4.3"
  }
 },
 "nbformat": 4,
 "nbformat_minor": 0
}
