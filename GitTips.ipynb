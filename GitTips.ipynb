{
 "cells": [
  {
   "cell_type": "markdown",
   "metadata": {},
   "source": [
    "[Homeへ戻る](Home.ipynb)\n",
    "\n",
    "---"
   ]
  },
  {
   "cell_type": "markdown",
   "metadata": {},
   "source": [
    "GUIで操作できるGitクライアントであるSourceTreeを使うんだ"
   ]
  },
  {
   "cell_type": "markdown",
   "metadata": {},
   "source": [
    "# 導入\n",
    "#### Windows\n",
    "Git for Windows とかいうのを入れればよいはず（よく憶えていない顔）\n",
    "\n",
    "#### Mac\n",
    "`xcode-select —install`と打ちxcodeコマンドラインツールを手にいれるとこで、コマンドラインからgccやらgitやらコーディング系の命令ができるようになる\n",
    "* ファイルサイズの大きなxcode全体をインストールする必要は無い"
   ]
  },
  {
   "cell_type": "markdown",
   "metadata": {},
   "source": [
    "# 設定ファイル\n",
    "Gitのトップディレクトリ直下の.gitconfigやリポジトリ内の.gitignoreファイル（無ければ作る）を手で書き換えれば設定を変えられる\n",
    "* gitconfig: ユーザーの名前やメールアドレス、使うエディタなど\n",
    "* gitignore: ここで指定されたファイルに更新があってもステージング候補とせずに無視する\n",
    "    - IPython Notebookの場合、.ipnb_chekcpointsという自動生成するフォルダを無視すると楽。.gitignoreに\n",
    "    `.*/`などと書いておけばよい\n",
    "* Macでは名前が.から始まる隠しファイルやフォルダをFinderがデフォルトでは表示しない。表示させるために、\n",
    "```\n",
    "defaults write com.apple.finder AppleShowAllFiles TRUE\n",
    "```\n",
    "と打ちFinderを再起動する。表示しない設定に戻すには`TRUE`を`FALSE`にして再び打つ"
   ]
  },
  {
   "cell_type": "markdown",
   "metadata": {},
   "source": [
    "# コマンドラインGit\n",
    "SourceTreeは動作がやや重いので、個人制作のちょっとしたレポジトリならコマンドラインシェルからGitしたくなる時もある\n",
    "\n",
    "自由度が高すぎるのでとりあえず最小限のコマンドまとめ。`git`のあとに打つ\n",
    "* `clone https://github.com/アカウント名/レポジトリ名.git`:　HTTPSでクローンしてくる\n",
    "* `add`:　ステージングする\n",
    "    - `-u`:　今までにコミットしたことあるファイルすべて\n",
    "    - `-A`:　すべて（関係ないファイルやフォルダをgitignoreしたあとにやろう）\n",
    "* `status`:　いま何がステージングされているかを確認\n",
    "* `commit`:　コミットする\n",
    "    - `-a`:　すべて（事前にaddするひつようなし）\n",
    "    - `-m`:　コミットメッセージ\n",
    "* `push`:　プッシュ\n",
    "\n",
    "WindowsではなぜかCygwinでpushができないのでコマンドプロンプトを使うほかなくなった…"
   ]
  },
  {
   "cell_type": "markdown",
   "metadata": {},
   "source": [
    "### エディタ\n",
    "-mオプションを使わずにコミットすると、コミットメッセージを書くためにエディタが起動する。デフォルトのエディタはvim\n",
    "* WindowsではCygwinでvimがうまく呼び出せずに操作を受けつけなくなった\n",
    "* vimやemacsはうまく使えるまでに学習コストがかるぶん効率的に書ける類のエディタだと思う。筆者はコードをIDE (Eclipseなど)やIPython Notebookで書き、TeXをTeXエディタ (Bakoma Texなど)で書くため、あまり学ぶ動機がない\n",
    "\n",
    "もしあなたがvimやemacsなどの特定の宗派に属していないなら、windowsでは秀丸エディタがおすすめ。macでは特におすすめるできるほど知らない、筆者は試しにSublime Text 3を入れてみた\n",
    "\n",
    "#### Windowsで秀丸エディタ\n",
    "* 秀丸エディタの文字コードはデフォルトでShift-JISなのでUTF-8に変えよう: [秀丸　デフォルトの文字コードの設定方法](http://d.hatena.ne.jp/uyan39/20121111/1352644150)\n",
    "\n",
    "* デフォルトのエディタを秀丸にするには、コマンドラインで\n",
    "```\n",
    "git config --global core.editor \"'C:/Program Files (x86)/Hidemaru/Hidemaru.exe'\"\n",
    "```\n",
    "と打つか、Gitのトップディレクトリ直下の.gitconfigファイルの中身を開けて[core]のeditorの部分を手で書き足す、例えば\n",
    "```\n",
    "[user]\n",
    "\tname = hogehoge\n",
    "\temail = fugafuga@piyopiyo.com\n",
    "[core]\n",
    "\teditor = 'C:/Program Files (x86)/Hidemaru/Hidemaru.exe'\n",
    "```\n",
    "\n",
    "    - [git for windowsで秀丸を使ってコミットメッセージを編集したい](http://gendosu.jp/archives/2343)などを参照\n",
    "    - 著者はここで少しハマった。ダブルクォート\"とシングルクォート'の両方が必要っぽい。シングルクォートは２種類あるので、'を\\`と間違わないように注意。また、ディレクトリの区切りは\\\\ではなく/で入力\n",
    "    \n",
    "#### MacでSublime Text 3\n",
    "まず、Sublimeをコマンドラインシェルから使えるようにする\n",
    "* （[公式](http://www.sublimetext.com/docs/3/osx_command_line.html) を参照）\n",
    "```\n",
    "ln -s \"/Applications/Sublime Text.app/Contents/SharedSupport/bin/subl\" /usr/bin/subl\n",
    "```\n",
    "などと打てば、`subl`でSublimeが起動するようになる\n",
    "\n",
    "次に、SublimeをGitの標準エディタに設定する\n",
    "* 例えば、```\n",
    "git config --global core.editor 'subl -w'\n",
    "```\n",
    "などと打つ\n",
    "\n"
   ]
  },
  {
   "cell_type": "markdown",
   "metadata": {},
   "source": [
    "### 公開鍵認証によるSSH接続\n",
    "\n",
    "なぜかWindowsではpushやpullのたびにユーザーネームとパスワードを要求される。\n",
    "毎回入れるのは面倒なので、公開鍵認証を使って自動化する\n",
    "* なぜかMacでは特に要求されない\n",
    "\n",
    "参考\n",
    "* [WindowsのGitbashで、Githubをssh経由で操作できるようにセットアップした](http://yuheikagaya.hatenablog.jp/entry/2012/12/11/224216)\n",
    "* [SSH を用いてパスワードなしで GIT リポジトリにアクセスする](http://blog.saku-lab.net/2012/07/ssh-git.html)参照）\n",
    "* [sshでパスワードなしにログインするには](http://www.atmarkit.co.jp/flinux/rensai/linuxtips/447nonpassh.html)\n",
    "\n",
    "pushやpullのたびにユーザーネームとパスワードを入れるのは面倒なので、公開鍵認証を使って自動化する\n",
    "* Cygwinの場合は、NetというCategoryの下のopensshとopensslをインストールする\n",
    "* Gitのトップディレクトリ直下に.sshというディレクトリを作り移動\n",
    "    - 今後複数のアカウントを管理する可能性を考え、さらにその下にユーザー名の名前のディレクトリを作り移動\n",
    "* `ssh-keygen -t rsa`で鍵ペア（秘密鍵と公開鍵）を生成。`-t`オプションは鍵のタイプを指定する。今回はRSA暗号\n",
    "* Enter file in which to save the keyは鍵を置くディレクトリを聞いており、無視してEnterするとデフォルトの場所になる。パスフレーズを適当に入力してEnter。これで鍵ペアファイルが生成する。id_rsaが秘密鍵で、id_rsa.pubが公開鍵\n",
    "* Cygwinでは`eval ssh-agent`、コマンドプロンプトでは`ssh-agent cmd`で認証エージェントssh-agentが起動。`ssh-add id_rsaの場所`で認証エージェントにさっき作った秘密鍵を登録する。\n",
    "    - 認証エージェントを終了するときは`eval ssh-agent -k`\n",
    "以下、GitHubの場合\n",
    "* GitHubのSettingsにSSH Keysという項目があるので、id_rsa.pubの中身をKeyとしてコピペして追加すればよし。Titleは何でもよし\n",
    "* 接続テスト。`ssh git@github.com`と打つと、もし設定がうまくいっていれば\n",
    "```\n",
    "Hi hogehoge! You've successfully authenticated, but GitHub does not provide shell access.\n",
    "```\n",
    "みたいなことを言われる。\n",
    "\n",
    "\n",
    "ふつうならこれでもう`git push`できるはずなのだけど、コマンドプロンプトの場合はPermission deniedと言われてしまう。もう少し作業が必要（[SSHポートが通らなくてもgithub.comにpushする方法](http://mattn.kaoriya.net/software/20081029172540.htm)を参照）\n",
    "* .sshディレクトリ下にconfigureというファイルを作り\n",
    "```\n",
    "Host github.com\n",
    "    User git\n",
    "    Hostname ssh.github.com\n",
    "    Port 443\n",
    "    IdentityFile id_rsaの場所\n",
    "```\n",
    "と書いておく必要がある\n",
    "\n",
    "SSHはHTTPより遅いので、cloneのときはHTTPにするかconfigをいじるとよいかも\n",
    "[GitHub で clone するときは SSH じゃなく HTTP を使ったほうが高速](http://tech.nitoyon.com/ja/blog/2013/01/11/github-clone-http/)"
   ]
  }
 ],
 "metadata": {
  "kernelspec": {
   "display_name": "Python 3",
   "language": "python",
   "name": "python3"
  },
  "language_info": {
   "codemirror_mode": {
    "name": "ipython",
    "version": 3
   },
   "file_extension": ".py",
   "mimetype": "text/x-python",
   "name": "python",
   "nbconvert_exporter": "python",
   "pygments_lexer": "ipython3",
   "version": "3.4.3"
  }
 },
 "nbformat": 4,
 "nbformat_minor": 0
}
